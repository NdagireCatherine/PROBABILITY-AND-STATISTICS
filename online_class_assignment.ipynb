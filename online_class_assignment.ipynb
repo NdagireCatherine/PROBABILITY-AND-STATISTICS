{
 "cells": [
  {
   "cell_type": "markdown",
   "metadata": {},
   "source": [
    "### NDAGIRE CATHERINE\n",
    "### M24B38/004 "
   ]
  },
  {
   "cell_type": "code",
   "execution_count": 36,
   "metadata": {},
   "outputs": [],
   "source": [
    "import pandas as pd \n",
    "import numpy as np \n",
    "import scipy.stats as stats\n",
    "\n",
    "diamonds = pd.read_excel(\"diamonds_new.xlsx\")\n"
   ]
  },
  {
   "cell_type": "markdown",
   "metadata": {},
   "source": [
    "## Using the diamonds dataset, test the following hypotheses:"
   ]
  },
  {
   "cell_type": "markdown",
   "metadata": {},
   "source": [
    "## 1) average price of all table categories are the same."
   ]
  },
  {
   "cell_type": "code",
   "execution_count": 35,
   "metadata": {},
   "outputs": [],
   "source": [
    "from statsmodels.stats import weightstats as stests\n",
    "from statsmodels.stats.weightstats import ztest as ztest"
   ]
  },
  {
   "cell_type": "code",
   "execution_count": 29,
   "metadata": {},
   "outputs": [],
   "source": [
    "# place the table variable into different categories\n",
    "bins = [50, 55, 60, 65, 70]\n",
    "labels = ['50-55', '55-60', '60-65', '65-70']\n",
    "diamonds['table_bin'] = pd.cut(diamonds['table'], bins = bins, labels = labels)\n"
   ]
  },
  {
   "cell_type": "code",
   "execution_count": 34,
   "metadata": {},
   "outputs": [],
   "source": [
    "#next we group each category accoring to price\n",
    "group_1 = diamonds[diamonds['table_bin'] == \"50-55\"].price\n",
    "group_2 = diamonds[diamonds['table_bin'] == \"55-60\"].price\n",
    "group_3 = diamonds[diamonds['table_bin'] == \"60-65\"].price\n",
    "group_4 = diamonds[diamonds['table_bin'] == \"65-70\"].price\n"
   ]
  },
  {
   "cell_type": "code",
   "execution_count": 37,
   "metadata": {},
   "outputs": [
    {
     "name": "stdout",
     "output_type": "stream",
     "text": [
      "Z-statistic: 119.73104883785925\n",
      "P-value: 1.999755507578452e-118\n",
      "3065.2492373398413 4099.823925176483\n",
      "We can reject the null hypothesis\n"
     ]
    }
   ],
   "source": [
    "#next we are going to compare the mean prices of each category grouped\n",
    "#comparing mean price for group_1 and group_2\n",
    "z_test ,p_value = stests.ztest(group_1, x2 = group_2, value = 0, alternative = 'two-sided')  \n",
    "\n",
    "#Print results\n",
    "print(\"Z-statistic:\", z_stat)\n",
    "print(\"P-value:\", p_value)\n",
    "print(np.mean(group_1), np.mean(group_2)) \n",
    "\n",
    "#Print conclusion \n",
    "if p_value < 0.05:  \n",
    "    print(\"We can reject the null hypothesis\")  \n",
    "else:  \n",
    "    print(\"We can accept the null hypothesis\") "
   ]
  },
  {
   "cell_type": "code",
   "execution_count": 38,
   "metadata": {},
   "outputs": [
    {
     "name": "stdout",
     "output_type": "stream",
     "text": [
      "Z-statistic: 119.73104883785925\n",
      "P-value: 7.758412139232717e-84\n",
      "3065.2492373398413 4354.71958807123\n",
      "We can reject the null hypothesis\n"
     ]
    }
   ],
   "source": [
    "#comparing mean price for group_1 and group_3\n",
    "z_test ,p_value = stests.ztest(group_1, x2 = group_3, value = 0, alternative = 'two-sided')  \n",
    "\n",
    "#Print results\n",
    "print(\"Z-statistic:\", z_stat)\n",
    "print(\"P-value:\", p_value)\n",
    "print(np.mean(group_1), np.mean(group_3)) \n",
    "\n",
    "#Print conclusion \n",
    "if p_value < 0.05:  \n",
    "    print(\"We can reject the null hypothesis\")  \n",
    "else:  \n",
    "    print(\"We can accept the null hypothesis\") "
   ]
  },
  {
   "cell_type": "code",
   "execution_count": 39,
   "metadata": {},
   "outputs": [
    {
     "name": "stdout",
     "output_type": "stream",
     "text": [
      "Z-statistic: 119.73104883785925\n",
      "P-value: 4.1539195975562225e-05\n",
      "3065.2492373398413 4200.8488372093025\n",
      "We can reject the null hypothesis\n"
     ]
    }
   ],
   "source": [
    "#comparing mean price for group_1 and group_4\n",
    "z_test ,p_value = stests.ztest(group_1, x2 = group_4, value = 0, alternative = 'two-sided')  \n",
    "\n",
    "#Print results\n",
    "print(\"Z-statistic:\", z_stat)\n",
    "print(\"P-value:\", p_value)\n",
    "print(np.mean(group_1), np.mean(group_4)) \n",
    "\n",
    "#Print conclusion \n",
    "if p_value < 0.05:  \n",
    "    print(\"We can reject the null hypothesis\")  \n",
    "else:  \n",
    "    print(\"We can accept the null hypothesis\") "
   ]
  },
  {
   "cell_type": "code",
   "execution_count": 40,
   "metadata": {},
   "outputs": [
    {
     "name": "stdout",
     "output_type": "stream",
     "text": [
      "Z-statistic: 119.73104883785925\n",
      "P-value: 4.798133305505969e-05\n",
      "4099.823925176483 4354.71958807123\n",
      "We can reject the null hypothesis\n"
     ]
    }
   ],
   "source": [
    "#comparing mean price for group_2 and group_3\n",
    "z_test ,p_value = stests.ztest(group_2, x2 = group_3, value = 0, alternative = 'two-sided')  \n",
    "\n",
    "#Print results\n",
    "print(\"Z-statistic:\", z_stat)\n",
    "print(\"P-value:\", p_value)\n",
    "print(np.mean(group_2), np.mean(group_3)) \n",
    "\n",
    "#Print conclusion \n",
    "if p_value < 0.05:  \n",
    "    print(\"We can reject the null hypothesis\")  \n",
    "else:  \n",
    "    print(\"We can accept the null hypothesis\") "
   ]
  },
  {
   "cell_type": "code",
   "execution_count": 41,
   "metadata": {},
   "outputs": [
    {
     "name": "stdout",
     "output_type": "stream",
     "text": [
      "Z-statistic: 119.73104883785925\n",
      "P-value: 0.7440862126201301\n",
      "4099.823925176483 4200.8488372093025\n",
      "We can accept the null hypothesis\n"
     ]
    }
   ],
   "source": [
    "#comparing mean price for group_2 and group_4\n",
    "z_test ,p_value = stests.ztest(group_2, x2 = group_4, value = 0, alternative = 'two-sided')  \n",
    "\n",
    "#Print results\n",
    "print(\"Z-statistic:\", z_stat)\n",
    "print(\"P-value:\", p_value)\n",
    "print(np.mean(group_2), np.mean(group_4)) \n",
    "\n",
    "#Print conclusion \n",
    "if p_value < 0.05:  \n",
    "    print(\"We can reject the null hypothesis\")  \n",
    "else:  \n",
    "    print(\"We can accept the null hypothesis\") "
   ]
  },
  {
   "cell_type": "code",
   "execution_count": 42,
   "metadata": {},
   "outputs": [
    {
     "name": "stdout",
     "output_type": "stream",
     "text": [
      "Z-statistic: 119.73104883785925\n",
      "P-value: 0.6201953351770775\n",
      "4354.71958807123 4200.8488372093025\n",
      "We can accept the null hypothesis\n"
     ]
    }
   ],
   "source": [
    "#comparing mean price for group_3 and group_4\n",
    "z_test ,p_value = stests.ztest(group_3, x2 = group_4, value = 0, alternative = 'two-sided')  \n",
    "\n",
    "#Print results\n",
    "print(\"Z-statistic:\", z_stat)\n",
    "print(\"P-value:\", p_value)\n",
    "print(np.mean(group_3), np.mean(group_4)) \n",
    "\n",
    "#Print conclusion \n",
    "if p_value < 0.05:  \n",
    "    print(\"We can reject the null hypothesis\")  \n",
    "else:  \n",
    "    print(\"We can accept the null hypothesis\") "
   ]
  },
  {
   "cell_type": "markdown",
   "metadata": {},
   "source": [
    "## 2) average price of \"Premium\" diamonds is 150."
   ]
  },
  {
   "cell_type": "code",
   "execution_count": 18,
   "metadata": {},
   "outputs": [
    {
     "name": "stdout",
     "output_type": "stream",
     "text": [
      "Defaulting to user installation because normal site-packages is not writeable\n",
      "Collecting statsmodels\n",
      "  Downloading statsmodels-0.14.4-cp312-cp312-win_amd64.whl.metadata (9.5 kB)\n",
      "Requirement already satisfied: numpy<3,>=1.22.3 in c:\\users\\user\\appdata\\local\\packages\\pythonsoftwarefoundation.python.3.12_qbz5n2kfra8p0\\localcache\\local-packages\\python312\\site-packages (from statsmodels) (2.1.1)\n",
      "Requirement already satisfied: scipy!=1.9.2,>=1.8 in c:\\users\\user\\appdata\\local\\packages\\pythonsoftwarefoundation.python.3.12_qbz5n2kfra8p0\\localcache\\local-packages\\python312\\site-packages (from statsmodels) (1.14.1)\n",
      "Requirement already satisfied: pandas!=2.1.0,>=1.4 in c:\\users\\user\\appdata\\local\\packages\\pythonsoftwarefoundation.python.3.12_qbz5n2kfra8p0\\localcache\\local-packages\\python312\\site-packages (from statsmodels) (2.2.2)\n",
      "Collecting patsy>=0.5.6 (from statsmodels)\n",
      "  Downloading patsy-0.5.6-py2.py3-none-any.whl.metadata (3.5 kB)\n",
      "Requirement already satisfied: packaging>=21.3 in c:\\users\\user\\appdata\\local\\packages\\pythonsoftwarefoundation.python.3.12_qbz5n2kfra8p0\\localcache\\local-packages\\python312\\site-packages (from statsmodels) (24.1)\n",
      "Requirement already satisfied: python-dateutil>=2.8.2 in c:\\users\\user\\appdata\\local\\packages\\pythonsoftwarefoundation.python.3.12_qbz5n2kfra8p0\\localcache\\local-packages\\python312\\site-packages (from pandas!=2.1.0,>=1.4->statsmodels) (2.9.0.post0)\n",
      "Requirement already satisfied: pytz>=2020.1 in c:\\users\\user\\appdata\\local\\packages\\pythonsoftwarefoundation.python.3.12_qbz5n2kfra8p0\\localcache\\local-packages\\python312\\site-packages (from pandas!=2.1.0,>=1.4->statsmodels) (2024.1)\n",
      "Requirement already satisfied: tzdata>=2022.7 in c:\\users\\user\\appdata\\local\\packages\\pythonsoftwarefoundation.python.3.12_qbz5n2kfra8p0\\localcache\\local-packages\\python312\\site-packages (from pandas!=2.1.0,>=1.4->statsmodels) (2024.1)\n",
      "Requirement already satisfied: six in c:\\users\\user\\appdata\\local\\packages\\pythonsoftwarefoundation.python.3.12_qbz5n2kfra8p0\\localcache\\local-packages\\python312\\site-packages (from patsy>=0.5.6->statsmodels) (1.16.0)\n",
      "Downloading statsmodels-0.14.4-cp312-cp312-win_amd64.whl (9.8 MB)\n",
      "   ---------------------------------------- 0.0/9.8 MB ? eta -:--:--\n",
      "   ---------------------------------------- 0.0/9.8 MB ? eta -:--:--\n",
      "   ---------------------------------------- 0.0/9.8 MB ? eta -:--:--\n",
      "   - -------------------------------------- 0.3/9.8 MB ? eta -:--:--\n",
      "   -- ------------------------------------- 0.5/9.8 MB 699.0 kB/s eta 0:00:14\n",
      "   --- ------------------------------------ 0.8/9.8 MB 1.0 MB/s eta 0:00:09\n",
      "   ----- ---------------------------------- 1.3/9.8 MB 1.4 MB/s eta 0:00:06\n",
      "   -------- ------------------------------- 2.1/9.8 MB 1.8 MB/s eta 0:00:05\n",
      "   ---------- ----------------------------- 2.6/9.8 MB 1.9 MB/s eta 0:00:04\n",
      "   ------------- -------------------------- 3.4/9.8 MB 2.2 MB/s eta 0:00:03\n",
      "   ---------------- ----------------------- 3.9/9.8 MB 2.2 MB/s eta 0:00:03\n",
      "   ------------------- -------------------- 4.7/9.8 MB 2.4 MB/s eta 0:00:03\n",
      "   ---------------------- ----------------- 5.5/9.8 MB 2.5 MB/s eta 0:00:02\n",
      "   ------------------------- -------------- 6.3/9.8 MB 2.6 MB/s eta 0:00:02\n",
      "   ---------------------------- ----------- 7.1/9.8 MB 2.7 MB/s eta 0:00:02\n",
      "   --------------------------------- ------ 8.1/9.8 MB 2.8 MB/s eta 0:00:01\n",
      "   ------------------------------------- -- 9.2/9.8 MB 3.0 MB/s eta 0:00:01\n",
      "   ---------------------------------------  9.7/9.8 MB 3.0 MB/s eta 0:00:01\n",
      "   ---------------------------------------- 9.8/9.8 MB 2.9 MB/s eta 0:00:00\n",
      "Downloading patsy-0.5.6-py2.py3-none-any.whl (233 kB)\n",
      "Installing collected packages: patsy, statsmodels\n",
      "Successfully installed patsy-0.5.6 statsmodels-0.14.4\n",
      "Note: you may need to restart the kernel to use updated packages.\n"
     ]
    }
   ],
   "source": [
    "%pip install statsmodels"
   ]
  },
  {
   "cell_type": "code",
   "execution_count": 23,
   "metadata": {},
   "outputs": [],
   "source": [
    "from statsmodels.stats import weightstats as stests\n",
    "from statsmodels.stats.weightstats import ztest as ztest"
   ]
  },
  {
   "cell_type": "code",
   "execution_count": 21,
   "metadata": {},
   "outputs": [
    {
     "data": {
      "text/plain": [
       "1         326\n",
       "3         334\n",
       "12        345\n",
       "13        345\n",
       "23        355\n",
       "         ... \n",
       "53908    2756\n",
       "53910    2756\n",
       "53911    2756\n",
       "53914    2757\n",
       "53918    2757\n",
       "Name: price, Length: 13789, dtype: int64"
      ]
     },
     "execution_count": 21,
     "metadata": {},
     "output_type": "execute_result"
    }
   ],
   "source": [
    "#at this step I am going to only pick out the price of the premium cut.\n",
    "premium_price = diamonds[diamonds[\"cut\"] == \"Premium\"].price\n",
    "premium_price"
   ]
  },
  {
   "cell_type": "code",
   "execution_count": 26,
   "metadata": {},
   "outputs": [
    {
     "name": "stdout",
     "output_type": "stream",
     "text": [
      "Z-statistic: 119.73104883785925\n",
      "P-value: 0.0\n",
      "Mean: 4584.697657553122\n",
      "We can reject the null hypothesis\n"
     ]
    }
   ],
   "source": [
    "#Now we are going to carry out the z_test\n",
    "z_stat, p_value = ztest(premium_price, value=150)\n",
    "print(\"Z-statistic:\", z_stat)\n",
    "print(\"P-value:\", p_value)\n",
    "print(\"Mean:\", np.mean(premium_price))\n",
    "\n",
    "if p_value < 0.05:      \n",
    "    print(\"We can reject the null hypothesis\")  \n",
    "else:  \n",
    "    print(\"We can accept the null hypothesis\")"
   ]
  },
  {
   "cell_type": "markdown",
   "metadata": {},
   "source": [
    "The p-value is less than 0.05 and the mean price of Premium within the dataset is not equal to the assumed mean price of 150."
   ]
  }
 ],
 "metadata": {
  "kernelspec": {
   "display_name": "Python 3",
   "language": "python",
   "name": "python3"
  },
  "language_info": {
   "codemirror_mode": {
    "name": "ipython",
    "version": 3
   },
   "file_extension": ".py",
   "mimetype": "text/x-python",
   "name": "python",
   "nbconvert_exporter": "python",
   "pygments_lexer": "ipython3",
   "version": "3.12.7"
  }
 },
 "nbformat": 4,
 "nbformat_minor": 2
}
